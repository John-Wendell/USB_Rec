{
 "cells": [
  {
   "cell_type": "code",
   "execution_count": null,
   "id": "c264ed5b",
   "metadata": {},
   "outputs": [],
   "source": [
    "from ses_functions import SESConfig, create_client, load_data, eval_conversations, history2messages, eval_conversations_with_voting\n",
    "from openai import OpenAI\n",
    "\n",
    "client = create_client()"
   ]
  },
  {
   "cell_type": "code",
   "execution_count": null,
   "id": "a828281d",
   "metadata": {},
   "outputs": [],
   "source": [
    "# check the data format\n",
    "import json\n",
    "with open('test_data.jsonl', 'r', encoding='utf-8') as f:\n",
    "    data = [json.loads(line) for line in f]\n",
    "    \n",
    "print('history dialog: ', data[0]['context'])\n",
    "print('resp_label: ', data[0]['resp'])\n",
    "print('rec_label: ', ', '.join(data[0]['rec']))"
   ]
  },
  {
   "cell_type": "code",
   "execution_count": null,
   "id": "7e68bda1",
   "metadata": {},
   "outputs": [],
   "source": [
    "# set ses parameters\n",
    "config = SESConfig(\n",
    "    continue_turn=2,\n",
    "    begin_turn=0,\n",
    "    po_vote_num=10,\n",
    "    po_sample_times=3,\n",
    "    \n",
    ")\n",
    "ses = False  # whether to use SES, default is False\n",
    "tree = False  # unsuggested"
   ]
  },
  {
   "cell_type": "code",
   "execution_count": null,
   "id": "5a55eaef",
   "metadata": {},
   "outputs": [],
   "source": [
    "\n",
    "\n",
    "def eval():\n",
    "    data = load_data(\"test_data.jsonl\")\n",
    "    results = eval_conversations_with_voting(client, data, config)\n",
    "    return results"
   ]
  },
  {
   "cell_type": "code",
   "execution_count": null,
   "id": "a2118088",
   "metadata": {},
   "outputs": [],
   "source": [
    "\n",
    "results = eval()\n",
    "\n",
    "import json\n",
    "with open('po_results.jsonl', 'w', encoding='utf-8') as f:\n",
    "    for key, value in results.items():\n",
    "        f.write(json.dumps({'id': key, 'result': value}, ensure_ascii=False) + '\\n')\n"
   ]
  }
 ],
 "metadata": {
  "kernelspec": {
   "display_name": "24",
   "language": "python",
   "name": "python3"
  },
  "language_info": {
   "codemirror_mode": {
    "name": "ipython",
    "version": 3
   },
   "file_extension": ".py",
   "mimetype": "text/x-python",
   "name": "python",
   "nbconvert_exporter": "python",
   "pygments_lexer": "ipython3",
   "version": "3.9.21"
  }
 },
 "nbformat": 4,
 "nbformat_minor": 5
}
